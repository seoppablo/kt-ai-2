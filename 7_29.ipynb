{
 "cells": [
  {
   "cell_type": "markdown",
   "id": "9a80f018",
   "metadata": {},
   "source": [
    "# 미니실습1\n",
    "## 리스트 원소의 최솟값 구하기 함수 min_of()를 작성\n",
    "### t=(4, 7, 5.6, 2, 3.14, 1)\n",
    "### s='string'\n",
    "### a=['DTS', 'AAC', 'FLAC']"
   ]
  },
  {
   "cell_type": "code",
   "execution_count": 3,
   "id": "ffff2e2a",
   "metadata": {},
   "outputs": [
    {
     "name": "stdout",
     "output_type": "stream",
     "text": [
      "4\n",
      "s\n",
      "AAC\n"
     ]
    }
   ],
   "source": [
    "t=(4, 7, 5.6, 2, 3.14, 1)\n",
    "s='string'\n",
    "a=['DTS', 'AAC', 'FLAC']\n",
    "\n",
    "def min_of(a):\n",
    "    minimum = a[0]\n",
    "    for i in range(1, len(a)):\n",
    "        if a[i] < minimum :\n",
    "            minimum = a[i]\n",
    "        return minimum\n",
    "\n",
    "print(f'{min_of(t)}')\n",
    "print(f'{min_of(s)}')\n",
    "print(f'{min_of(a)}')"
   ]
  },
  {
   "cell_type": "markdown",
   "id": "5c86e993",
   "metadata": {},
   "source": [
    "# 미니실습2\n",
    "## 리스트를 사용자로부터 입력받아 역순으로 정렬하여 리스트의 원소를 출력"
   ]
  },
  {
   "cell_type": "code",
   "execution_count": 4,
   "id": "4073c629",
   "metadata": {},
   "outputs": [
    {
     "name": "stdout",
     "output_type": "stream",
     "text": [
      "리스트를 역순을 출력합니다.\n",
      "원소 수를 입력하세요.:5\n",
      "x[0]값을 입력하세요.:1\n",
      "x[1]값을 입력하세요.:2\n",
      "x[2]값을 입력하세요.:3\n",
      "x[3]값을 입력하세요.:4\n",
      "x[4]값을 입력하세요.:5\n",
      "리스트를 역순을 출력합니다.\n",
      "x[0] = 5\n",
      "x[1] = 4\n",
      "x[2] = 3\n",
      "x[3] = 2\n",
      "x[4] = 1\n"
     ]
    }
   ],
   "source": [
    "def reverse_list(a):\n",
    "    n = len(a)\n",
    "    for i in range(n//2) :\n",
    "        a[i], a[n-i-1] = a[n-i-1], a[i]\n",
    "        \n",
    "print('리스트를 역순을 출력합니다.')\n",
    "num = int(input('원소 수를 입력하세요.:'))\n",
    "x = [None] * num\n",
    "\n",
    "for i in range(num) :\n",
    "    x[i] = int(input(f'x[{i}]값을 입력하세요.:'))\n",
    "                     \n",
    "reverse_list(x)\n",
    "        \n",
    "print('리스트를 역순을 출력합니다.')\n",
    "for i in range(num) : \n",
    "    print(f'x[{i}] = {x[i]}')"
   ]
  },
  {
   "cell_type": "markdown",
   "id": "0502d6ce",
   "metadata": {},
   "source": [
    "# 미니실습3\n",
    "## 아래 리스트에서 검색값을 찾으려고 한다. 선형 검색 while 문을 사용하는 경우와 보초법을 사용하는 경우에 각각 if 조건문이 몇 번 실행되는지 수를 세어 출력하라."
   ]
  },
  {
   "cell_type": "code",
   "execution_count": 5,
   "id": "75db3d29",
   "metadata": {},
   "outputs": [],
   "source": [
    "def seq_search(a, key):\n",
    "    i = 0\n",
    "    cnt = 0\n",
    "    while True :\n",
    "        cnt += 1\n",
    "        if i == len(a):\n",
    "            return (-1, cnt)\n",
    "        cnt += 1\n",
    "        if a[i] == key :\n",
    "            return (i, cnt)\n",
    "        i += 1"
   ]
  },
  {
   "cell_type": "code",
   "execution_count": 6,
   "id": "425bea90",
   "metadata": {},
   "outputs": [],
   "source": [
    " def seq_search_sentinel(b, key) :\n",
    "    a = b.copy()\n",
    "    a.append(key)\n",
    "    \n",
    "    i = 0\n",
    "    cnt = 0\n",
    "    while True :\n",
    "        cnt += 1\n",
    "        if a[i] == key :\n",
    "            break\n",
    "        i += 1\n",
    "        \n",
    "    return(-1, cnt) if i == len(b) else (i, cnt)"
   ]
  },
  {
   "cell_type": "code",
   "execution_count": 7,
   "id": "e80bccd0",
   "metadata": {},
   "outputs": [
    {
     "name": "stdout",
     "output_type": "stream",
     "text": [
      "while문 검색값은 a[6]에 있습니다.\n",
      "보초법 검색값은 a[6]에 있습니다.\n",
      "while문에서 if 조건문은 14번 실행되었습니다.\n",
      "보초법에서 if 조건문은 7번 실행되었습니다.\n"
     ]
    }
   ],
   "source": [
    "a = [2,5,1,3,9,6,7]\n",
    "index1, cnt1 = seq_search(a,7)\n",
    "index2, cnt2 = seq_search_sentinel(a,7)\n",
    "\n",
    "if index1 == -1 or index2 == -1 :\n",
    "    print('검색값 존재하지 않습니다.')\n",
    "else :\n",
    "    print(f'while문 검색값은 a[{index1}]에 있습니다.')\n",
    "    print(f'보초법 검색값은 a[{index2}]에 있습니다.')\n",
    "    print(f'while문에서 if 조건문은 {cnt1}번 실행되었습니다.')\n",
    "    print(f'보초법에서 if 조건문은 {cnt2}번 실행되었습니다.')"
   ]
  },
  {
   "cell_type": "markdown",
   "id": "be868380",
   "metadata": {},
   "source": [
    "# 실습1\n",
    "## 2부터 1000사이의 수 중에서 소수를 리스트에 입력하고 출력\n",
    "### 소수(prime number)는 자신과 1 이외의 정수로 나누어 떨어지지 않는 정수이며, 2는 소수."
   ]
  },
  {
   "cell_type": "code",
   "execution_count": 10,
   "id": "070054f0",
   "metadata": {},
   "outputs": [
    {
     "name": "stdout",
     "output_type": "stream",
     "text": [
      "[2, 3, 5, 7, 11, 13, 17, 19, 23, 29, 31, 37, 41, 43, 47, 53, 59, 61, 67, 71, 73, 79, 83, 89, 97, 101, 103, 107, 109, 113, 127, 131, 137, 139, 149, 151, 157, 163, 167, 173, 179, 181, 191, 193, 197, 199, 211, 223, 227, 229, 233, 239, 241, 251, 257, 263, 269, 271, 277, 281, 283, 293, 307, 311, 313, 317, 331, 337, 347, 349, 353, 359, 367, 373, 379, 383, 389, 397, 401, 409, 419, 421, 431, 433, 439, 443, 449, 457, 461, 463, 467, 479, 487, 491, 499, 503, 509, 521, 523, 541, 547, 557, 563, 569, 571, 577, 587, 593, 599, 601, 607, 613, 617, 619, 631, 641, 643, 647, 653, 659, 661, 673, 677, 683, 691, 701, 709, 719, 727, 733, 739, 743, 751, 757, 761, 769, 773, 787, 797, 809, 811, 821, 823, 827, 829, 839, 853, 857, 859, 863, 877, 881, 883, 887, 907, 911, 919, 929, 937, 941, 947, 953, 967, 971, 977, 983, 991, 997]\n"
     ]
    }
   ],
   "source": [
    "prime_number = []\n",
    "\n",
    "for i in range(2, 1001) : \n",
    "    flag = 0\n",
    "    for j in range(2, i) :\n",
    "        if i % j == 0 :\n",
    "            flag = 1\n",
    "            break\n",
    "    \n",
    "    if flag == 0 :\n",
    "        prime_number.append(i)\n",
    "    \n",
    "print(prime_number)"
   ]
  },
  {
   "cell_type": "markdown",
   "id": "61fd3e47",
   "metadata": {},
   "source": [
    "# 실습2\n",
    "## 리스트를 사용자로부터 입력받아서 역순으로 정렬하여 리스트의 원소를 출력.\n",
    "### 원소 수를 미리 묻지말고  코드가 실행할 수 있도록."
   ]
  },
  {
   "cell_type": "code",
   "execution_count": 18,
   "id": "74379474",
   "metadata": {},
   "outputs": [
    {
     "name": "stdout",
     "output_type": "stream",
     "text": [
      "리스트를 역순으로 출력합니다.\n",
      "end입력하면 종료됩니다.\n",
      "b[0]값을 입력하세요.:1\n",
      "b[0]값을 입력하세요.:2\n",
      "b[0]값을 입력하세요.:3\n",
      "b[0]값을 입력하세요.:4\n",
      "b[0]값을 입력하세요.:5\n",
      "b[0]값을 입력하세요.:end\n",
      "리스트를 역순을 출력합니다.\n",
      "b[0] = 5\n",
      "b[1] = 4\n",
      "b[2] = 3\n",
      "b[3] = 2\n",
      "b[4] = 1\n"
     ]
    }
   ],
   "source": [
    "def reverse_list(a):\n",
    "    n = len(a)\n",
    "    for i in range(n//2) :\n",
    "        a[i], a[n-i-1] = a[n-i-1], a[i]\n",
    "        \n",
    "print('리스트를 역순으로 출력합니다.')\n",
    "print('end입력하면 종료됩니다.')\n",
    "\n",
    "i = 0\n",
    "b = []\n",
    "while True :\n",
    "    c = input(f'b[{i}]값을 입력하세요.:')\n",
    "    if c == 'end' :\n",
    "        break\n",
    "    b.append(int(c))\n",
    "    \n",
    "reverse_list(b)\n",
    "        \n",
    "print('리스트를 역순을 출력합니다.')\n",
    "for i in range(len(b)) : \n",
    "    print(f'b[{i}] = {b[i]}')"
   ]
  },
  {
   "cell_type": "markdown",
   "id": "c63de3f7",
   "metadata": {},
   "source": [
    "# 실습3\n",
    "## 리스트와 검색할 값을 사용자로부터 입력받아서 검색값이 있는 인덱스 출력"
   ]
  },
  {
   "cell_type": "code",
   "execution_count": 20,
   "id": "23e73964",
   "metadata": {},
   "outputs": [
    {
     "name": "stdout",
     "output_type": "stream",
     "text": [
      "end를 입력하면 종료됩니다.\n",
      "a[0]값을 입력하세요.:1\n",
      "a[1]값을 입력하세요.:2\n",
      "a[2]값을 입력하세요.:3\n",
      "a[3]값을 입력하세요.:4\n",
      "a[4]값을 입력하세요.:5\n",
      "a[5]값을 입력하세요.:6\n",
      "a[6]값을 입력하세요.:7\n",
      "a[7]값을 입력하세요.:8\n",
      "a[8]값을 입력하세요.:9\n",
      "a[9]값을 입력하세요.:10\n",
      "a[10]값을 입력하세요.:end\n",
      "검색할 값을 입력하세요.:10\n",
      "검색할 값10는 리스트a[9]에 있습니다.\n"
     ]
    }
   ],
   "source": [
    "def search(a, key) : \n",
    "    i = 0\n",
    "    while True :\n",
    "        if i == len(a):\n",
    "            return -1\n",
    "        \n",
    "        if a[i] == key :\n",
    "            return i\n",
    "        i += 1\n",
    "\n",
    "print(f'end를 입력하면 종료됩니다.')\n",
    "\n",
    "n=0\n",
    "a=[]\n",
    "while True :\n",
    "    c = input(f'a[{n}]값을 입력하세요.:')\n",
    "    if c == 'end' :\n",
    "        break\n",
    "    a.append(int(c))\n",
    "    n += 1\n",
    "\n",
    "key = int(input(f'검색할 값을 입력하세요.:'))\n",
    "\n",
    "index = search(a, key)\n",
    "\n",
    "print(f'검색할 값{key}는 리스트a[{index}]에 있습니다.')"
   ]
  },
  {
   "cell_type": "markdown",
   "id": "187f5581",
   "metadata": {},
   "source": [
    "# 실습4\n",
    "## 리스트를 사용자로부터 입력받아서 최대값과 최소값이 있는 인덱스 출력."
   ]
  },
  {
   "cell_type": "code",
   "execution_count": 48,
   "id": "70578f9b",
   "metadata": {},
   "outputs": [
    {
     "name": "stdout",
     "output_type": "stream",
     "text": [
      "a[0]값을 입력하세요.:1\n",
      "a[1]값을 입력하세요.:5\n",
      "a[2]값을 입력하세요.:2\n",
      "a[3]값을 입력하세요.:4\n",
      "a[4]값을 입력하세요.:23\n",
      "a[5]값을 입력하세요.:6\n",
      "a[6]값을 입력하세요.:78\n",
      "a[7]값을 입력하세요.:34\n",
      "a[8]값을 입력하세요.:7\n",
      "a[9]값을 입력하세요.:end\n",
      "최대값은 78이고 a[6]에 있습니다.\n",
      "최소값은 1이고 a[0]에 있습니다.\n"
     ]
    }
   ],
   "source": [
    "def max_of(a):\n",
    "    maximum = a[0]\n",
    "    for i in range(1, len(a)):\n",
    "        if a[i] > maximum :\n",
    "            maximum = a[i]\n",
    "    return maximum\n",
    "    \n",
    "\n",
    "def min_of(a):\n",
    "    minimum = a[0]\n",
    "    for i in range(1, len(a)):\n",
    "        if a[i] < minimum :\n",
    "            minimum = a[i]\n",
    "    return minimum\n",
    "    \n",
    "def seq_search(a, key):\n",
    "    i = 0\n",
    "    \n",
    "    while True:\n",
    "        if i == len(a):\n",
    "            return -1\n",
    "        if a[i] == key:\n",
    "            return i\n",
    "        i += 1\n",
    "    \n",
    "n=0\n",
    "a=[]\n",
    "while True :\n",
    "    c = input(f'a[{n}]값을 입력하세요.:')\n",
    "    if c == 'end' :\n",
    "        break\n",
    "    a.append(int(c))\n",
    "    n += 1\n",
    "\n",
    "\n",
    "maximum = max_of(a)\n",
    "minimum = min_of(a)\n",
    "indexMax = seq_search(a, maximum)\n",
    "indexmin = seq_search(a, minimum)\n",
    "\n",
    "print(f'최대값은 {maximum}이고 a[{indexMax}]에 있습니다.')\n",
    "print(f'최소값은 {minimum}이고 a[{indexmin}]에 있습니다.')"
   ]
  },
  {
   "cell_type": "code",
   "execution_count": null,
   "id": "c6bd2140",
   "metadata": {},
   "outputs": [],
   "source": []
  }
 ],
 "metadata": {
  "kernelspec": {
   "display_name": "Python 3",
   "language": "python",
   "name": "python3"
  },
  "language_info": {
   "codemirror_mode": {
    "name": "ipython",
    "version": 3
   },
   "file_extension": ".py",
   "mimetype": "text/x-python",
   "name": "python",
   "nbconvert_exporter": "python",
   "pygments_lexer": "ipython3",
   "version": "3.8.8"
  }
 },
 "nbformat": 4,
 "nbformat_minor": 5
}
