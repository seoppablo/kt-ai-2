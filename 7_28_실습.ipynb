{
 "cells": [
  {
   "cell_type": "markdown",
   "id": "32eeda40",
   "metadata": {},
   "source": [
    "## 미니실습1"
   ]
  },
  {
   "cell_type": "code",
   "execution_count": 1,
   "id": "76fc171e",
   "metadata": {},
   "outputs": [
    {
     "name": "stdout",
     "output_type": "stream",
     "text": [
      "max4(4,3,2,1) = 4\n",
      "max4(5,1,2,3) = 5\n",
      "max4(2,5,4,7) = 7\n",
      "max4(2,1,3,1) = 3\n",
      "max4(1,1,1,1) = 1\n",
      "max4(7,4,5,9) = 9\n"
     ]
    }
   ],
   "source": [
    "def max4(a,b,c,d):\n",
    "    maximum = a\n",
    "    if b>maximum:\n",
    "        maximum=b\n",
    "    if c>maximum:\n",
    "        maximum=c\n",
    "    if d>maximum:\n",
    "        maximum=d\n",
    "    return maximum\n",
    "\n",
    "\n",
    "print(f'max4(4,3,2,1) = {max4(4,3,2,1)}')\n",
    "print(f'max4(5,1,2,3) = {max4(5,1,2,3)}')\n",
    "print(f'max4(2,5,4,7) = {max4(2,5,4,7)}')\n",
    "print(f'max4(2,1,3,1) = {max4(2,1,3,1)}')\n",
    "print(f'max4(1,1,1,1) = {max4(1,1,1,1)}')\n",
    "print(f'max4(7,4,5,9) = {max4(7,4,5,9)}')"
   ]
  },
  {
   "cell_type": "markdown",
   "id": "041217a0",
   "metadata": {},
   "source": [
    "## 미니실습2"
   ]
  },
  {
   "cell_type": "code",
   "execution_count": 2,
   "id": "15fcec56",
   "metadata": {
    "scrolled": true
   },
   "outputs": [
    {
     "name": "stdout",
     "output_type": "stream",
     "text": [
      "수도회사를 입력하세요.:B\n",
      "수도사용량을 입력하세요.:75\n",
      "수도회사\"B\"의 수도요금은 \"9375원\" 입니다.\n"
     ]
    }
   ],
   "source": [
    "def waterPay(x,y) : \n",
    "    if x == 'A' : \n",
    "        sumA = y*100\n",
    "        return sumA\n",
    "    \n",
    "    if x == 'B' : \n",
    "        if y <=50 : \n",
    "            sumB = y*150\n",
    "        \n",
    "        if y > 50 : \n",
    "            sumB = 50*150 + (y-50)*75\n",
    "        \n",
    "    return sumB\n",
    "\n",
    "x = input('수도회사를 입력하세요.:')\n",
    "y = int(input('수도사용량을 입력하세요.:'))\n",
    "\n",
    "print(f'수도회사\"{x}\"의 수도요금은 \"{waterPay(x,y)}원\" 입니다.')"
   ]
  },
  {
   "cell_type": "markdown",
   "id": "e67ee56d",
   "metadata": {},
   "source": [
    "## 미니실습3"
   ]
  },
  {
   "cell_type": "code",
   "execution_count": 3,
   "id": "827520eb",
   "metadata": {},
   "outputs": [
    {
     "name": "stdout",
     "output_type": "stream",
     "text": [
      "a부터 b까지 정수의 합을 구합니다.\n",
      "정수a를 입력하세요.:3\n",
      "정수b를 입력하세요.:7\n",
      "3 + 4 + 5 + 6 + 7 = 25\n"
     ]
    }
   ],
   "source": [
    "print('a부터 b까지 정수의 합을 구합니다.')\n",
    "a = int(input('정수a를 입력하세요.:'))\n",
    "b = int(input('정수b를 입력하세요.:'))\n",
    "\n",
    "if a > b : \n",
    "    a,b = b,a\n",
    "    \n",
    "sum = 0\n",
    "\n",
    "for i in range(a,b) : \n",
    "    print(f'{i} + ', end='')\n",
    "    sum += i\n",
    "    \n",
    "print(f'{b} = ', end='')\n",
    "sum += b\n",
    "\n",
    "print(sum)"
   ]
  },
  {
   "cell_type": "markdown",
   "id": "588c36d1",
   "metadata": {},
   "source": [
    "## 미니실습4"
   ]
  },
  {
   "cell_type": "code",
   "execution_count": 2,
   "id": "0b20d0da",
   "metadata": {},
   "outputs": [
    {
     "name": "stdout",
     "output_type": "stream",
     "text": [
      "직사각형의 넓이를 입력하세요.:32\n",
      "1 x 32\n",
      "2 x 16\n",
      "4 x 8\n",
      "8 x 4\n",
      "16 x 2\n",
      "32 x 1\n"
     ]
    }
   ],
   "source": [
    "area = int(input('직사각형의 넓이를 입력하세요.:'))\n",
    "\n",
    "for i in range(1,area+1):\n",
    "    if area % i : continue\n",
    "    print(f'{i} x {area // i}')"
   ]
  },
  {
   "cell_type": "markdown",
   "id": "fd3e04a6",
   "metadata": {},
   "source": [
    "# 실습1"
   ]
  },
  {
   "cell_type": "code",
   "execution_count": 5,
   "id": "2cad55d2",
   "metadata": {},
   "outputs": [
    {
     "name": "stdout",
     "output_type": "stream",
     "text": [
      "전기사용량을 입력하세요.:260\n",
      "한달 전기사용금액은 \"35854원\"입니다.\n"
     ]
    }
   ],
   "source": [
    "def electricPay(a) : \n",
    "    if a < 100 : \n",
    "        sum = 410 + a * 60.7\n",
    "        \n",
    "    if a >=100 and a <= 200 : \n",
    "        sum = 910 + 100 * 60.7 + (a-100) * 125.9\n",
    "        \n",
    "    if a > 200 : \n",
    "        sum = 1600 + (100 * (60.7+125.9))+ (a-200) * 187.9\n",
    "        \n",
    "    sum = int(sum * (1 + 0.1 + 0.037))\n",
    "    return sum\n",
    "\n",
    "\n",
    "a = int(input('전기사용량을 입력하세요.:'))\n",
    "print(f'한달 전기사용금액은 \"{electricPay(a)}원\"입니다.')"
   ]
  },
  {
   "cell_type": "markdown",
   "id": "3b0585f3",
   "metadata": {},
   "source": [
    "# 실습2\n",
    "##  +와-번갈아 가면서 출력, 몇 개를 출력할 지 입력받음"
   ]
  },
  {
   "cell_type": "code",
   "execution_count": 6,
   "id": "ff524dd1",
   "metadata": {},
   "outputs": [
    {
     "name": "stdout",
     "output_type": "stream",
     "text": [
      "+-출력하기\n",
      "몇 개를 출력할까요?:11\n",
      "+-+-+-+-+-+\n"
     ]
    }
   ],
   "source": [
    "print('+-출력하기')\n",
    "n = int(input('몇 개를 출력할까요?:'))\n",
    "\n",
    "for i in range(n//2) :\n",
    "    print('+-',end='')\n",
    "    \n",
    "if n % 2 == 1 : \n",
    "    print('+')\n",
    "    "
   ]
  },
  {
   "cell_type": "markdown",
   "id": "3314f72a",
   "metadata": {},
   "source": [
    "# 실습3\n",
    "## 1부터 12까리를 for loop를 활용하여 출력하는데, 8은 건너뛰고 출력"
   ]
  },
  {
   "cell_type": "code",
   "execution_count": 7,
   "id": "52581792",
   "metadata": {},
   "outputs": [
    {
     "name": "stdout",
     "output_type": "stream",
     "text": [
      "1 2 3 4 5 6 7 9 10 11 12 "
     ]
    }
   ],
   "source": [
    "for i in range(11) : \n",
    "    if i < 7 : \n",
    "        print(f'{i+1} ', end ='')\n",
    "    else : \n",
    "        print(f'{i+2} ',end='')\n",
    "        "
   ]
  },
  {
   "cell_type": "markdown",
   "id": "52aca46c",
   "metadata": {},
   "source": [
    "# 실습4\n",
    "## 사용자에게 정수를 입력받아, root**pwr값이 사용자가 입력한 정수와 같은 두 개의 정수 root 및 pwr을 찾아 출력. (단, 1 < pwr < 6). 그러한 정수쌍이 없으면 결과가 없음 출력"
   ]
  },
  {
   "cell_type": "code",
   "execution_count": 16,
   "id": "ae25f66d",
   "metadata": {},
   "outputs": [
    {
     "name": "stdout",
     "output_type": "stream",
     "text": [
      "정수를 입력하세요.:16\n",
      "16 = 2**4입니다.\n",
      "16 = 4**2입니다.\n"
     ]
    }
   ],
   "source": [
    "number = int(input('정수를 입력하세요.:'))\n",
    "flag = 0\n",
    "\n",
    "for root in range(1, number+1) : \n",
    "    for pwr in range(2,6) : \n",
    "        if (root**pwr) == number : \n",
    "            print(f'{number} = {root}**{pwr}입니다.')\n",
    "            flag = 1\n",
    "        \n",
    "if flag == 0 : \n",
    "    print('해당하는 결과가 없습니다.')\n"
   ]
  },
  {
   "cell_type": "code",
   "execution_count": null,
   "id": "7fe3be3e",
   "metadata": {},
   "outputs": [],
   "source": []
  }
 ],
 "metadata": {
  "kernelspec": {
   "display_name": "Python 3",
   "language": "python",
   "name": "python3"
  },
  "language_info": {
   "codemirror_mode": {
    "name": "ipython",
    "version": 3
   },
   "file_extension": ".py",
   "mimetype": "text/x-python",
   "name": "python",
   "nbconvert_exporter": "python",
   "pygments_lexer": "ipython3",
   "version": "3.8.8"
  }
 },
 "nbformat": 4,
 "nbformat_minor": 5
}
